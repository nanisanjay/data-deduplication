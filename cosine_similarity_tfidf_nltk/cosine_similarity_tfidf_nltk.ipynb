{
 "cells": [
  {
   "cell_type": "code",
   "execution_count": 1,
   "metadata": {
    "collapsed": true
   },
   "outputs": [],
   "source": [
    "import nltk\n",
    "import string\n",
    "\n",
    "# used for looping through folders/files\n",
    "from os import listdir\n",
    "from os.path import isfile, join\n",
    "\n",
    "#Calc tfidf and cosine similarity\n",
    "from sklearn.feature_extraction.text import TfidfVectorizer\n",
    "from sklearn.metrics.pairwise import cosine_similarity"
   ]
  },
  {
   "cell_type": "code",
   "execution_count": 2,
   "metadata": {
    "collapsed": true
   },
   "outputs": [],
   "source": [
    "# All text entries to compare will appear here\n",
    "BASE_INPUT_DIR = \"./inputdata/\""
   ]
  },
  {
   "cell_type": "markdown",
   "metadata": {},
   "source": [
    "## Preprocess Data"
   ]
  },
  {
   "cell_type": "markdown",
   "metadata": {},
   "source": [
    "#### File information"
   ]
  },
  {
   "cell_type": "code",
   "execution_count": 3,
   "metadata": {},
   "outputs": [
    {
     "name": "stdout",
     "output_type": "stream",
     "text": [
      "['100554newsML.txt', '100593newsML.txt', '100618newsML.txt', '130040newsML.txt', '137871newsML.txt'] \n",
      " ['./inputdata/100554newsML.txt', './inputdata/100593newsML.txt', './inputdata/100618newsML.txt', './inputdata/130040newsML.txt', './inputdata/137871newsML.txt']\n"
     ]
    }
   ],
   "source": [
    "def returnListOfFilePaths(folderPath):\n",
    "    fileInfo = []\n",
    "    listOfFileNames = [fileName for fileName in listdir(folderPath) if isfile(join(folderPath, fileName))]\n",
    "    listOfFilePaths = [join(folderPath, fileName) for fileName in listdir(folderPath) if isfile(join(folderPath, fileName))]\n",
    "    fileInfo.append(listOfFileNames)\n",
    "    fileInfo.append(listOfFilePaths)\n",
    "    return fileInfo\n",
    "\n",
    "fileNames, filePaths = returnListOfFilePaths(BASE_INPUT_DIR)\n",
    "print(fileNames, \"\\n\", filePaths)"
   ]
  },
  {
   "cell_type": "code",
   "execution_count": 4,
   "metadata": {},
   "outputs": [
    {
     "name": "stdout",
     "output_type": "stream",
     "text": [
      "{'./inputdata/100554newsML.txt': 'Channel tunnel operator Eurotunnel on Monday announced details of a deal giving bank creditors 45.5 percent of the company in return for wiping out 1.0 billion pounds ($1.6 billion) of its massive debts.\\nThe long-awaited but highly complex restructuring of nearly nearly nine billion pounds of debt and unpaid interest throws the company a lifeline which could secure what is still likely to be a difficult future.\\nThe deal, announced simultaneously in Paris and London, brings the company back from the brink of bankruptcy but leaves current shareholders, who have already seen their investment dwindle, owning only 54.5 percent of the company.\\n\"We have fixed and capped the interest payments and arranged only to pay what is available in cash,\" Eurotunnel co-chairman Alastair Morton told reporters at a news conference. \"Avoiding having to do this again is the name of the game.\"\\nMorton said the plan provides the Anglo-French company with the medium term financial stability to consolidate its commercial position and develop its operations, adding that the firm was now making a profit before interest.\\nAlthough shareholders will see their holdings diluted, they were offered the prospect of a brighter future and urged to be patient after months of uncertainty while Eurotunnel wrestled to reduce the crippling interest payments negotiated during the tunnel\\'s construction.\\nEurotunnel, which has taken around half of the market in the busiest cross-Channel route from the European ferry companies, said a strong operating performance could allow it to pay its first dividend within the next 10 years.\\nFrench co-chairman Patrick Ponsolle told reporters at a Paris news conference that the dividend could come as early as 2004 if the company performed \"very well\".\\nEurotunnel and the banks have come up with an ingenious formula to help the company get over the early years of the deal when, despite the swaps of debt for equity and bonds, it will still not be able to afford the annual interest bill of 400 million pounds.\\nIf its revenue, after costs and depreciation, is less than 400 million pounds, then the company will issue \"Stabilisation notes\" to a maximum of 1.85 billion pounds to the banks. Eurotunnel would not pay interest on these notes (which would constitute a debt issue) for ten years.\\nAnalysts said that under the deal, Eurotunnel\\'s ability to finance its debt would become sustainable, at least for a few years.\\n\"If you look at the current cash flow of between 150 and 200 million pounds a year, what they can\\'t find (to meet the bill) they will roll forward into the stabilisation notes, and they can keep that going for seven, eight, nine years,\" said an analyst at one major investment bank.\\n\"So they are here for that time,\" he added.\\nThe company said in a statement there was still considerable work to be done to finalise and agree the details of the plan before it can be submitted to shareholders and the bank group for approval, probably early in the Spring of 1997.\\nEurotunnel said the debt-for-equity swap would be at 130 pence, or 10.40 francs, per share -- considerably below the level of 160 pence widely reported in the run up to the deal\\nThe company said a further 3.7 billion pounds of debt would be converted into new financial instruments and existing shareholders would be able to participate in this issue.\\nIf they choose not to take up free warrants entitling them to subscribe to this, Eurotunnel said shareholders\\' interests may be reduced further to just over 39 percent of the company by the end of December 2003.\\nEurotunnel\\'s shares, which were suspended last week at 113.5 pence ahead of Monday\\'s announcement, will resume trading on Tuesday.\\nShareholders and all 225 creditor banks have to agree the deal. \"I\\'m hopeful but I\\'m not taking it (approval) for granted,\" Morton admitted, \"Shareholders are pretty angry in France.\"\\nAsked what would happen if the banks reject the deal, Morton said, \"Nobody wants a collapse, nobody wants a doomsday scenario.\"\\n($1=.6393 Pound)\\n', './inputdata/100593newsML.txt': 'Anglo-French Channel Tunnel operator Eurotunnel Monday announced a deal giving its creditor banks 45.5 percent of the company in return for wiping out one billion pounds ($1.56 billion) of its debt.\\nThe long-awaited restructuring brings to an end months of wrangling between Eurotunnel and the 225 banks to which it owes nearly nine billion pounds ($14.1 billion).\\nThe deal, announced simultaneously in Paris and London, brings the company back from the brink of insolvency but leaves shareholders owning only 54.5 percent of the company.\\n\"The restructuring plan provides Eurotunnel with the medium-term financial stability to allow it to consolidate its substantial commercial achievements to date and to develop its operations,\" Eurotunnel co-chairman Alastair Morton said.\\nThe firm was now making a profit before interest, he added.\\nAlthough shareholders will see their interests diluted, they were offered the prospect of a brighter future after months of uncertainty while Eurotunnel wrestled to reduce crippling interest payments negotiated during the tunnel\\'s construction.\\nEurotunnel, which has taken around half the cross-Channel market from the European ferry companies, said a strong operating performance could allow it to pay its first dividend within the next 10 years.\\nFrench co-chairman Patrick Ponsolle said shareholders would have to be patient before they could reap the benefits of the company\\'s success.\\nHe called the debt restructuring plan \"an acceptable compromise\" for holders of Eurotunnel shares.\\nThe company said there was still considerable work to be done to finalise and agree on the details of the plan before it can be submitted to shareholders and the full 225 bank syndicate for approval, probably early in 1997.\\nMonday\\'s announcement followed two weeks of highly secretive negotiations between Eurotunnel and its six leading banks. This was extended to the 24 \"instructing banks\" at a meeting late last week in London.\\nEurotunnel said the debt-for-equity swap would be at 130 pence, or 10.40 francs, per share. That is considerably below the level of around 160 pence widely reported before announcement of the deal, and will reduce outstanding debt of 8.7 billion pounds ($13.6 billion) by 1.0 billion ($1.56 billion).\\nThe company said a further 3.7 billion pounds ($5.8 billion) of debt would be converted into new financial instruments and existing shareholders would be able to participate in this issue.\\nIf they choose not to take up free warrants entitling them to subscribe to this, Eurotunnel said shareholders\\' interests may be reduced further to just over 39 percent of the company by the end of December 2003.\\nEurotunnel\\'s shares, which were suspended last week at 113.5 pence ahead of Monday\\'s announcement, should resume trading on Tuesday, the company said.\\n', './inputdata/100618newsML.txt': 'Anglo-French Channel Tunnel operator Eurotunnel on Monday announced a deal giving creditor banks 45.5 percent of the company in return for wiping out one billion pounds ($1.56 billion) of its debt mountain.\\nThe long-awaited restructuring brings to an end months of wrangling between Eurotunnel and the 225 banks to which it owes nearly nine billion pounds.\\nThe deal, announced simultaneously in Paris and London, brings the company back from the brink of insolvency but leaves shareholders owning only 54.5 percent of the company.\\n\"The restructuring plan provides Eurotunnel with the medium term financial stability to allow it to consolidate its substantial commercial achievements to date and to develop its operations,\" Eurotunnel co-chairman Alastair Morton said.\\nThe firm was now making a profit before interest, he added.\\nAlthough shareholders will see their interests diluted, they were offered the prospect of a brighter future after months of uncertainty while Eurotunnel wrestled to reduce crippling interest payments negotiated during the tunnel\\'s construction.\\nEurotunnel, which has taken around half the cross-Channel market from the European ferry companies, said a strong operating performance could allow it to pay its first dividend within the next 10 years.\\nFrench co-chairman Patrick Ponsolle said shareholders would have to be patient before they could reap the benefits of the company\\'s success.\\nHe called the debt restructuring plan \"an acceptable compromise\" for holders of Eurotunnel shares.\\nThe company said in a statement there was still considerable work to be done to finalise and agree the details of the plan before it can be submitted to shareholders and the full 225 bank syndicate for approval, probably early in 1997.\\nMonday\\'s announcement followed two weeks of highly secretive negotiations between Eurotunnel and its six leading banks. This was extended to the 24 \"instructing banks\" at a meeting late last week in London.\\nEurotunnel said the debt-for-equity swap would be at 130 pence, or 10.40 francs, per share. That is considerably below the level of around 160 pence widely reported in the run up to the deal, and will reduce outstanding debt of 8.7 billion pounds by 1.0 billion.\\nThe company said a further 3.7 billion pounds of debt would be converted into new financial instruments and existing shareholders would be able to participate in this issue.\\nIf they choose not to take up free warrants entitling them to subscribe to this, Eurotunnel said shareholders\\' interests may be reduced further to just over 39 percent of the company by the end of December 2003.\\nEurotunnel\\'s shares, which were suspended last week at 113.5 pence ahead of Monday\\'s announcement, should resume trading on Tuesday, the company said. ($1=.6393 Pound)\\n', './inputdata/130040newsML.txt': 'Britain\\'s Barclays Plc said on Monday it was in talks with U.S. group Morgan Stanley about its global custody business and banking sources confirmed the unit is up for sale.\\nBarclays and Morgan Stanley were coy in responding to press speculation, saying only that they are \"in discussions to explore the potential for future co-operation\".\\nThe move would be another step in the consolidation of the global custody business which is becoming dominated by those banks who are willing to make the large front-end investment in systems which are necessary to later rake in fees.\\nBarclays\\' custody business has 350 to 400 staff worldwide, with some working in the Far East, but has for some time been treated as not in the bank\\'s core business.\\nSecurities worth some 150 billion pounds ($239.2 billion) have been placed with the unit.\\nIn its interim results, published in August, Barclays included custody in its \"Businesses in Transition\" category which includes restructuring businesses in France and the United States. The category including custody made a profit of 23 million pounds in the half-year to June 30.\\nThe report said, \"Businesses in Transition primarily comprises lendings and other assets that are unlikely to be of long-term interest to the Group or that require significant restructuring.\"\\nIt was not clear when the deal will be finalised but analysts said it would mark a further step in the consolidation of the global custody market.\\n\"Consolidation is a natural if you look at the economic of the business,\" said John Leonard, banking analyst at Salomon Brothers. \"It\\'s a scale economy buisiness.\"\\nLeonard said that some banks had taken the decision not to invest the large sums needed to get computer systems up to scratch to be competitive.\\nCustody businesses range from traditional safekeeping of securities, which in Britain is dominated by Lloyds TSB and Royal Bank of Scotland, to performance measurement and stock lending.\\nAs such, it has ceased to be the largely risk-free business it once was although risk levels are still relatively low.\\n\"It guarantees a steady income stream but it\\'s not totally insensitive to market volumes,\" Leonard added.\\nAnalysts said Barclays has presumably decided that without further investment, the business will be too small to compete on the global stage. They expect Morgan Stanley to pay well under 100 million pounds for the business. \"It could well be less than fifty million (pounds),\" said one.\\nFinance workers\\' union BIFU attacked the leak of the discussions, saying staff face an uncertain future if the business was sold.\\nIt called on the bank to \"come clean\" over its intentions. ($1=.6270 Pound)\\n', './inputdata/137871newsML.txt': 'Italian business tycoon Silvio Berlusconi on Wednesday lost an appeal in the London High Court against the transfer of documents to Italian authorities investigating allegations of fraud and false accounting.\\nBritain\\'s Serious Fraud Office seized 15 bags of documents in April from the office of London lawyer David Mills who represents the interests of former Italian Prime Minister Berlusconi in Britain.\\nThe judges, Lord Justice Simon Brown and Mr Justice Gage, rejected all the grounds of the appeal, but Brown agreed to hear an application by the appellants on Friday morning, which could lead to an appeal to the House of Lords, although legal sources said this was unlikely to succeed.\\nThe hearing stemmed from an appeal by Berlusconi, who was Italian Prime Minister for seven months in 1994 and is on trial in Milan on corruption charges, his company Fininvest and company president Fedele Confalonieri against a court ruling earlier this year that the papers should be sent to Italy.\\nBrown said the papers were linked to fraud and false accounting allegations amounting to 51 million pounds ($82 million) which had been \"surreptitiously removed from Fininvest and used for criminal purposes.\"\\nHe noted that prosecutions were already underway in Italy against Berlusconi for bribing Revenue inspectors and for making illicit donations to former Prime Minister Bettino Craxi.\\nItalian investigators suspect Berlusconi who, among other holdings, owns three TV channels and the football club AC Milan, may have used offshore companies to channel payments to politicians.\\nAt the end of his judgement Brown pointed out that, \"It is imperative to recognise, however, that none of the applicants has yet been convicted of anything and that nothing I have said should be thought to raise the least presumption of guilt against them.\"\\nHe rejected all the grounds of the appeal on the basis that the Italian request was not too wide, that it was justified and that the offences in question were not \"political\".\\nOne of the grounds of appeal had been that the SFO had gone to Berlusconi\\'s lawyer\\'s office on a \"fishing expedition\" -- an unspecific search -- which is illegal under English law.\\nBrown described the case as a \"wide-ranging, multi-faceted, international fraud involving far-reaching allegations against a large number of individuals in connection with an even larger number of companies.\"\\nThe SFO said it was \"happy\" with the ruling.\\n\"The SFO\\'s fight against fraud on an international level has been strengthened by this welcome judgement,\" it said in a statement.\\nThe SFO said the judges had rejected all of the main arguments put forward by the appellants. \"We look forward to the speedy transfer of the documents to Milan so that the investigators can get on with their job,\" it said.\\nA hearing on Friday will decide whether Berlusconi can appeal against today\\'s ruling to the British House of Lords.\\nSFO senior assistant director Chris Dickson said the judges in the current hearing were aware that, if any House of Lords hearing did not take place until next year, this would mean the papers would arrive too late to be used in Italian proceedings.\\nHe said that if the appellants were not given leave to appeal on Friday he expected the papers to be transferred immediately, although this was a decision for the Home Office.\\n($1=.6260 Pound)\\n'}\n"
     ]
    }
   ],
   "source": [
    "# Get document contents\n",
    "def create_docContentDict(filePaths):\n",
    "    rawContentDict = {}\n",
    "    for filePath in filePaths:\n",
    "        with open(filePath, \"r\") as ifile:\n",
    "            fileContent = ifile.read()\n",
    "        rawContentDict[filePath] = fileContent\n",
    "    return rawContentDict\n",
    "rawContentDict = create_docContentDict(filePaths)\n",
    "print(rawContentDict)"
   ]
  },
  {
   "cell_type": "markdown",
   "metadata": {},
   "source": [
    "## Create Custom tokenizer"
   ]
  },
  {
   "cell_type": "markdown",
   "metadata": {},
   "source": [
    "### Define functions to use within the tokenizer\n",
    "We'd like to;\n",
    "- tokenize the input\n",
    "- remove stop words\n",
    "- perform stemming\n",
    "- remove punctuation\n",
    "- convert input to lowercase"
   ]
  },
  {
   "cell_type": "markdown",
   "metadata": {},
   "source": [
    "#### Tokenize"
   ]
  },
  {
   "cell_type": "code",
   "execution_count": 5,
   "metadata": {
    "collapsed": true
   },
   "outputs": [],
   "source": [
    "def tokenizeContent(contentsRaw):\n",
    "    tokenized = nltk.tokenize.word_tokenize(contentsRaw)\n",
    "    return tokenized"
   ]
  },
  {
   "cell_type": "markdown",
   "metadata": {},
   "source": [
    "#### Remove Stop words"
   ]
  },
  {
   "cell_type": "code",
   "execution_count": 6,
   "metadata": {
    "collapsed": true
   },
   "outputs": [],
   "source": [
    "def removeStopWordsFromTokenized(contentsTokenized):\n",
    "    stop_word_set = set(nltk.corpus.stopwords.words(\"english\"))\n",
    "    filteredContents = [word for word in contentsTokenized if word not in stop_word_set]\n",
    "    return filteredContents"
   ]
  },
  {
   "cell_type": "markdown",
   "metadata": {},
   "source": [
    "#### Stemming"
   ]
  },
  {
   "cell_type": "code",
   "execution_count": 7,
   "metadata": {
    "collapsed": true
   },
   "outputs": [],
   "source": [
    "def performPorterStemmingOnContents(contentsTokenized):\n",
    "    porterStemmer = nltk.stem.PorterStemmer()\n",
    "    filteredContents = [porterStemmer.stem(word) for word in contentsTokenized]\n",
    "    return filteredContents"
   ]
  },
  {
   "cell_type": "markdown",
   "metadata": {},
   "source": [
    "#### Remove Punctuation"
   ]
  },
  {
   "cell_type": "code",
   "execution_count": 8,
   "metadata": {
    "collapsed": true
   },
   "outputs": [],
   "source": [
    "def removePunctuationFromTokenized(contentsTokenized):\n",
    "    excludePuncuation = set(string.punctuation)\n",
    "    \n",
    "    # manually add additional punctuation to remove\n",
    "    doubleSingleQuote = '\\'\\''\n",
    "    doubleDash = '--'\n",
    "    doubleTick = '``'\n",
    "\n",
    "    excludePuncuation.add(doubleSingleQuote)\n",
    "    excludePuncuation.add(doubleDash)\n",
    "    excludePuncuation.add(doubleTick)\n",
    "\n",
    "    filteredContents = [word for word in contentsTokenized if word not in excludePuncuation]\n",
    "    return filteredContents"
   ]
  },
  {
   "cell_type": "markdown",
   "metadata": {},
   "source": [
    "#### Convert terms to lowercase"
   ]
  },
  {
   "cell_type": "code",
   "execution_count": 9,
   "metadata": {
    "collapsed": true
   },
   "outputs": [],
   "source": [
    "def convertItemsToLower(contentsRaw):\n",
    "    filteredContents = [term.lower() for term in contentsRaw]\n",
    "    return filteredContents"
   ]
  },
  {
   "cell_type": "markdown",
   "metadata": {},
   "source": [
    "### Test that functions are working as expected"
   ]
  },
  {
   "cell_type": "code",
   "execution_count": 10,
   "metadata": {},
   "outputs": [
    {
     "name": "stdout",
     "output_type": "stream",
     "text": [
      "Channel tunnel operator Eurotunnel on Monday announced details of a deal giving bank creditors 45.5 percent of the company in return for wiping out 1.0 billion pounds ($1.6 billion) of its massive debts.\n",
      "The long-awaited but highly complex restructuring of nearly nearly nine billion pounds of debt a\n"
     ]
    }
   ],
   "source": [
    "# get contents of a file for testing\n",
    "# TODO: may need to make a copy of this here\n",
    "content_test = rawContentDict[filePaths[0]]\n",
    "\n",
    "# visually inspect\n",
    "print(content_test[:300])"
   ]
  },
  {
   "cell_type": "code",
   "execution_count": 11,
   "metadata": {},
   "outputs": [
    {
     "name": "stdout",
     "output_type": "stream",
     "text": [
      "['Channel', 'tunnel', 'operator', 'Eurotunnel', 'on', 'Monday', 'announced', 'details', 'of', 'a', 'deal', 'giving', 'bank', 'creditors', '45.5', 'percent', 'of', 'the', 'company', 'in', 'return', 'for', 'wiping', 'out', '1.0', 'billion', 'pounds', '(', '$', '1.6']\n"
     ]
    }
   ],
   "source": [
    "# test tokenization\n",
    "content_test_tokenized = tokenizeContent(content_test)\n",
    "\n",
    "# visually inspect\n",
    "print(content_test_tokenized[:30])"
   ]
  },
  {
   "cell_type": "code",
   "execution_count": 12,
   "metadata": {},
   "outputs": [
    {
     "name": "stdout",
     "output_type": "stream",
     "text": [
      "['Channel', 'tunnel', 'operator', 'Eurotunnel', 'Monday', 'announced', 'details', 'deal', 'giving', 'bank', 'creditors', '45.5', 'percent', 'company', 'return', 'wiping', '1.0', 'billion', 'pounds', '(', '$', '1.6', 'billion', ')', 'massive', 'debts', '.', 'The', 'long-awaited', 'highly']\n"
     ]
    }
   ],
   "source": [
    "# test remove stop words\n",
    "content_test_rmStop = removeStopWordsFromTokenized(content_test_tokenized)\n",
    "\n",
    "# visually inspect\n",
    "print(content_test_rmStop[:30])"
   ]
  },
  {
   "cell_type": "code",
   "execution_count": 13,
   "metadata": {},
   "outputs": [
    {
     "name": "stdout",
     "output_type": "stream",
     "text": [
      "['channel', 'tunnel', 'oper', 'eurotunnel', 'monday', 'announc', 'detail', 'deal', 'give', 'bank', 'creditor', '45.5', 'percent', 'compani', 'return', 'wipe', '1.0', 'billion', 'pound', '(', '$', '1.6', 'billion', ')', 'massiv', 'debt', '.', 'the', 'long-await', 'highli']\n"
     ]
    }
   ],
   "source": [
    "# Test stemming\n",
    "content_test_stemmed = performPorterStemmingOnContents(content_test_rmStop)\n",
    "\n",
    "# visually inspect\n",
    "print(content_test_stemmed[:30])"
   ]
  },
  {
   "cell_type": "code",
   "execution_count": 14,
   "metadata": {},
   "outputs": [
    {
     "name": "stdout",
     "output_type": "stream",
     "text": [
      "['channel', 'tunnel', 'oper', 'eurotunnel', 'monday', 'announc', 'detail', 'deal', 'give', 'bank', 'creditor', '45.5', 'percent', 'compani', 'return', 'wipe', '1.0', 'billion', 'pound', '1.6', 'billion', 'massiv', 'debt', 'the', 'long-await', 'highli', 'complex', 'restructur', 'nearli', 'nearli']\n"
     ]
    }
   ],
   "source": [
    "# Test remove punctuation\n",
    "content_test_cleaned = removePunctuationFromTokenized(content_test_stemmed)\n",
    "\n",
    "# visually inspect\n",
    "print(content_test_cleaned[:30])"
   ]
  },
  {
   "cell_type": "code",
   "execution_count": 15,
   "metadata": {},
   "outputs": [
    {
     "name": "stdout",
     "output_type": "stream",
     "text": [
      "['channel', 'tunnel', 'oper', 'eurotunnel', 'monday', 'announc', 'detail', 'deal', 'give', 'bank', 'creditor', '45.5', 'percent', 'compani', 'return', 'wipe', '1.0', 'billion', 'pound', '1.6', 'billion', 'massiv', 'debt', 'the', 'long-await', 'highli', 'complex', 'restructur', 'nearli', 'nearli']\n"
     ]
    }
   ],
   "source": [
    "# Test convert to lower\n",
    "content_test_clean_lower = convertItemsToLower(content_test_cleaned)\n",
    "print(content_test_clean_lower[:30])"
   ]
  },
  {
   "cell_type": "markdown",
   "metadata": {},
   "source": [
    "### Wrap into a function to be used by NLTK"
   ]
  },
  {
   "cell_type": "code",
   "execution_count": 16,
   "metadata": {
    "collapsed": true
   },
   "outputs": [],
   "source": [
    "# process data without writing inspection file information to file\n",
    "def processData(rawContents):\n",
    "    cleaned = tokenizeContent(rawContents)\n",
    "    cleaned = removeStopWordsFromTokenized(cleaned)\n",
    "    cleaned = performPorterStemmingOnContents(cleaned)    \n",
    "    cleaned = removePunctuationFromTokenized(cleaned)\n",
    "    cleaned = convertItemsToLower(cleaned)\n",
    "    return cleaned"
   ]
  },
  {
   "cell_type": "markdown",
   "metadata": {},
   "source": [
    "## Create Functions For Output\n",
    "- TFIDF\n",
    "- Cosine Similarity\n",
    "    - this function will both calcuate and output results"
   ]
  },
  {
   "cell_type": "code",
   "execution_count": 17,
   "metadata": {
    "collapsed": true
   },
   "outputs": [],
   "source": [
    "# print TFIDF values in 'table' format\n",
    "def print_TFIDF_for_all(term, values, fileNames):\n",
    "    values = values.transpose() # files along 'x-axis', terms along 'y-axis'\n",
    "    numValues = len(values[0])\n",
    "    print('                ', end=\"\")   #bank space for formatting output\n",
    "    for n in range(len(fileNames)):\n",
    "        print('{0:18}'.format(fileNames[n]), end=\"\")    #file names\n",
    "    print()\n",
    "    for i in range(len(term)):\n",
    "        print('{0:8}'.format(term[i]), end='\\t|  ')     #the term\n",
    "        for j in range(numValues):\n",
    "            print('{0:.12f}'.format(values[i][j]), end='   ') #the value, corresponding to the file name, for the term\n",
    "        print()"
   ]
  },
  {
   "cell_type": "code",
   "execution_count": 18,
   "metadata": {
    "collapsed": true
   },
   "outputs": [],
   "source": [
    "# write TFIDF values in 'table' format\n",
    "def write_TFIDF_for_all(term, values, fileNames):\n",
    "    filePath = \"../results/tfid.txt\"\n",
    "    outFile = open(filePath, 'a')\n",
    "    title = \"TFIDF\\n\"\n",
    "    outFile.write(title)\n",
    "    values = values.transpose() # files along 'x-axis', terms along 'y-axis'\n",
    "    numValues = len(values[0])\n",
    "    outFile.write('               \\t')   #bank space for formatting output\n",
    "    for n in range(len(fileNames)):\n",
    "        outFile.write('{0:18}'.format(fileNames[n]))    #file names\n",
    "    outFile.write(\"\\n\")\n",
    "    for i in range(len(term)):\n",
    "        outFile.write('{0:15}'.format(term[i]))     #the term\n",
    "        outFile.write('\\t|  ')\n",
    "        for j in range(numValues):\n",
    "            outFile.write('{0:.12f}'.format(values[i][j])) #the value, corresponding to the file name, for the term\n",
    "            outFile.write('   ')\n",
    "        outFile.write(\"\\n\")\n",
    "\n",
    "    outFile.close()"
   ]
  },
  {
   "cell_type": "code",
   "execution_count": 19,
   "metadata": {
    "collapsed": true
   },
   "outputs": [],
   "source": [
    "# TODO: modify this to build matrix then print from matrix form\n",
    "def calc_and_print_CosineSimilarity_for_all(tfs, fileNames):\n",
    "    #print(cosine_similarity(tfs[0], tfs[1]))\n",
    "    print(\"\\n\\n\\n========COSINE SIMILARITY====================================================================\\n\")\n",
    "    numFiles = len(fileNames)\n",
    "    names = []\n",
    "    print('                   ', end=\"\")    #formatting\n",
    "    for i in range(numFiles):\n",
    "        if i == 0:\n",
    "            for k in range(numFiles):\n",
    "                print(fileNames[k], end='   ')\n",
    "            print()\n",
    "\n",
    "        print(fileNames[i], end='   ')\n",
    "        for n in range(numFiles):\n",
    "            #print(fileNames[n], end='\\t')\n",
    "            matrixValue = cosine_similarity(tfs[i], tfs[n])\n",
    "            numValue = matrixValue[0][0]\n",
    "            #print(numValue, end='\\t')\n",
    "            names.append(fileNames[n])\n",
    "            print(\" {0:.8f}\".format(numValue), end='         ')\n",
    "            #(cosine_similarity(tfs[i], tfs[n]))[0][0]\n",
    "\n",
    "        print()\n",
    "    print(\"\\n\\n=============================================================================================\\n\")"
   ]
  },
  {
   "cell_type": "code",
   "execution_count": 20,
   "metadata": {
    "collapsed": true
   },
   "outputs": [],
   "source": [
    "def calc_and_write_CosineSimilarity_for_all(tfs, fileNames):\n",
    "    filePath = \"../results/cosine_similarity.txt\"\n",
    "    outFile = open(filePath, 'a')\n",
    "    title = \"COSINE SIMILARITY\\n\"\n",
    "    outFile.write(title)\n",
    "    numFiles = len(fileNames)\n",
    "    names = []\n",
    "    outFile.write('                   ')\n",
    "    for i in range(numFiles):\n",
    "        if i == 0:\n",
    "            for k in range(numFiles):\n",
    "                outFile.write(fileNames[k])\n",
    "                outFile.write('   ')\n",
    "            outFile.write(\"\\n\")\n",
    "        outFile.write(fileNames[i])\n",
    "        outFile.write('   ')\n",
    "\n",
    "        for n in range(numFiles):\n",
    "            matrixValue = cosine_similarity(tfs[i], tfs[n])\n",
    "            numValue = matrixValue[0][0]\n",
    "            names.append(fileNames[n])\n",
    "            outFile.write('{0:.8f}'.format(numValue))\n",
    "            outFile.write('         ')\n",
    "            #(cosine_similarity(tfs[i], tfs[n]))[0][0]\n",
    "\n",
    "        outFile.write(\"\\n\")\n",
    "\n",
    "    outFile.close()"
   ]
  },
  {
   "cell_type": "markdown",
   "metadata": {},
   "source": [
    "## Wrap Everything into `Main()`"
   ]
  },
  {
   "cell_type": "code",
   "execution_count": 21,
   "metadata": {
    "collapsed": true
   },
   "outputs": [],
   "source": [
    "def main(printResults=True):\n",
    "    baseFolderPath = \"./inputdata/\"\n",
    "\n",
    "    fileNames, filePathList = returnListOfFilePaths(baseFolderPath)\n",
    "\n",
    "    rawContentDict = create_docContentDict(filePathList)\n",
    "\n",
    "    # calculate tfidf\n",
    "    tfidf = TfidfVectorizer(tokenizer=processData, stop_words='english')\n",
    "    tfs = tfidf.fit_transform(rawContentDict.values())\n",
    "    tfs_Values = tfs.toarray()\n",
    "    tfs_Term = tfidf.get_feature_names()\n",
    "    \n",
    "    if printResults:\n",
    "        # print results\n",
    "        print_TFIDF_for_all(tfs_Term, tfs_Values, fileNames)\n",
    "        calc_and_print_CosineSimilarity_for_all(tfs, fileNames)\n",
    "    else:\n",
    "        # write results to file\n",
    "        write_TFIDF_for_all(tfs_Term, tfs_Values, fileNames)   \n",
    "        calc_and_write_CosineSimilarity_for_all(tfs, fileNames)"
   ]
  },
  {
   "cell_type": "code",
   "execution_count": 22,
   "metadata": {},
   "outputs": [
    {
     "name": "stdout",
     "output_type": "stream",
     "text": [
      "                100554newsML.txt  100593newsML.txt  100618newsML.txt  130040newsML.txt  137871newsML.txt  \n",
      "'m      \t|  0.095165597630   0.000000000000   0.000000000000   0.000000000000   0.000000000000   \n",
      "'s      \t|  0.090693834344   0.139427353384   0.145592889457   0.089203368600   0.093595320091   \n",
      "1.0     \t|  0.031866754923   0.039192056059   0.040925145224   0.000000000000   0.000000000000   \n",
      "1.56    \t|  0.000000000000   0.094428412110   0.049302038059   0.000000000000   0.000000000000   \n",
      "1.6     \t|  0.047582798815   0.000000000000   0.000000000000   0.000000000000   0.000000000000   \n",
      "1.85    \t|  0.047582798815   0.000000000000   0.000000000000   0.000000000000   0.000000000000   \n",
      "10      \t|  0.031866754923   0.039192056059   0.040925145224   0.000000000000   0.000000000000   \n",
      "10.40   \t|  0.031866754923   0.039192056059   0.040925145224   0.000000000000   0.000000000000   \n",
      "100     \t|  0.000000000000   0.000000000000   0.000000000000   0.046800821384   0.000000000000   \n",
      "113.5   \t|  0.031866754923   0.039192056059   0.040925145224   0.000000000000   0.000000000000   \n",
      "13.6    \t|  0.000000000000   0.058520791438   0.000000000000   0.000000000000   0.000000000000   \n",
      "130     \t|  0.031866754923   0.039192056059   0.040925145224   0.000000000000   0.000000000000   \n",
      "14.1    \t|  0.000000000000   0.058520791438   0.000000000000   0.000000000000   0.000000000000   \n",
      "15      \t|  0.000000000000   0.000000000000   0.000000000000   0.000000000000   0.039284057781   \n",
      "150     \t|  0.038389502478   0.000000000000   0.000000000000   0.037758608010   0.000000000000   \n",
      "160     \t|  0.031866754923   0.039192056059   0.040925145224   0.000000000000   0.000000000000   \n",
      "1994    \t|  0.000000000000   0.000000000000   0.000000000000   0.000000000000   0.039284057781   \n",
      "1997.   \t|  0.031866754923   0.039192056059   0.040925145224   0.000000000000   0.000000000000   \n",
      "1=.6260 \t|  0.000000000000   0.000000000000   0.000000000000   0.000000000000   0.039284057781   \n",
      "1=.6270 \t|  0.000000000000   0.000000000000   0.000000000000   0.046800821384   0.000000000000   \n",
      "1=.6393 \t|  0.038389502478   0.000000000000   0.049302038059   0.000000000000   0.000000000000   \n",
      "200     \t|  0.047582798815   0.000000000000   0.000000000000   0.000000000000   0.000000000000   \n",
      "2003.   \t|  0.031866754923   0.039192056059   0.040925145224   0.000000000000   0.000000000000   \n",
      "2004    \t|  0.047582798815   0.000000000000   0.000000000000   0.000000000000   0.000000000000   \n",
      "225     \t|  0.031866754923   0.078384112119   0.081850290448   0.000000000000   0.000000000000   \n",
      "23      \t|  0.000000000000   0.000000000000   0.000000000000   0.046800821384   0.000000000000   \n",
      "239.2   \t|  0.000000000000   0.000000000000   0.000000000000   0.046800821384   0.000000000000   \n",
      "24      \t|  0.000000000000   0.047214206055   0.049302038059   0.000000000000   0.000000000000   \n",
      "3.7     \t|  0.031866754923   0.039192056059   0.040925145224   0.000000000000   0.000000000000   \n",
      "30.     \t|  0.000000000000   0.000000000000   0.000000000000   0.046800821384   0.000000000000   \n",
      "350     \t|  0.000000000000   0.000000000000   0.000000000000   0.046800821384   0.000000000000   \n",
      "39      \t|  0.031866754923   0.039192056059   0.040925145224   0.000000000000   0.000000000000   \n",
      "400     \t|  0.076779004957   0.000000000000   0.000000000000   0.037758608010   0.000000000000   \n",
      "45.5    \t|  0.031866754923   0.039192056059   0.040925145224   0.000000000000   0.000000000000   \n",
      "5.8     \t|  0.000000000000   0.058520791438   0.000000000000   0.000000000000   0.000000000000   \n",
      "51      \t|  0.000000000000   0.000000000000   0.000000000000   0.000000000000   0.039284057781   \n",
      "54.5    \t|  0.031866754923   0.039192056059   0.040925145224   0.000000000000   0.000000000000   \n",
      "8.7     \t|  0.000000000000   0.047214206055   0.049302038059   0.000000000000   0.000000000000   \n",
      "82      \t|  0.000000000000   0.000000000000   0.000000000000   0.000000000000   0.039284057781   \n",
      "abil    \t|  0.047582798815   0.000000000000   0.000000000000   0.000000000000   0.000000000000   \n",
      "abl     \t|  0.063733509845   0.039192056059   0.040925145224   0.000000000000   0.000000000000   \n",
      "ac      \t|  0.000000000000   0.000000000000   0.000000000000   0.000000000000   0.039284057781   \n",
      "accept  \t|  0.000000000000   0.047214206055   0.049302038059   0.000000000000   0.000000000000   \n",
      "account \t|  0.000000000000   0.000000000000   0.000000000000   0.000000000000   0.078568115562   \n",
      "achiev  \t|  0.000000000000   0.047214206055   0.049302038059   0.000000000000   0.000000000000   \n",
      "ad      \t|  0.053614637706   0.032969593103   0.034427522344   0.026366766409   0.000000000000   \n",
      "admit   \t|  0.047582798815   0.000000000000   0.000000000000   0.000000000000   0.000000000000   \n",
      "afford  \t|  0.047582798815   0.000000000000   0.000000000000   0.000000000000   0.000000000000   \n",
      "agre    \t|  0.053614637706   0.032969593103   0.034427522344   0.000000000000   0.022131952912   \n",
      "ahead   \t|  0.031866754923   0.039192056059   0.040925145224   0.000000000000   0.000000000000   \n",
      "alastair\t|  0.031866754923   0.039192056059   0.040925145224   0.000000000000   0.000000000000   \n",
      "alleg   \t|  0.000000000000   0.000000000000   0.000000000000   0.000000000000   0.117852173343   \n",
      "allow   \t|  0.031866754923   0.078384112119   0.081850290448   0.000000000000   0.000000000000   \n",
      "alreadi \t|  0.038389502478   0.000000000000   0.000000000000   0.000000000000   0.031694130465   \n",
      "analyst \t|  0.076779004957   0.000000000000   0.000000000000   0.113275824031   0.000000000000   \n",
      "anglo-french\t|  0.031866754923   0.039192056059   0.040925145224   0.000000000000   0.000000000000   \n",
      "angri   \t|  0.047582798815   0.000000000000   0.000000000000   0.000000000000   0.000000000000   \n",
      "announc \t|  0.095600264768   0.195960280297   0.163700580897   0.000000000000   0.000000000000   \n",
      "annual  \t|  0.047582798815   0.000000000000   0.000000000000   0.000000000000   0.000000000000   \n",
      "anoth   \t|  0.000000000000   0.000000000000   0.000000000000   0.046800821384   0.000000000000   \n",
      "anyth   \t|  0.000000000000   0.000000000000   0.000000000000   0.000000000000   0.039284057781   \n",
      "appeal  \t|  0.000000000000   0.000000000000   0.000000000000   0.000000000000   0.314272462249   \n",
      "appel   \t|  0.000000000000   0.000000000000   0.000000000000   0.000000000000   0.117852173343   \n",
      "applic  \t|  0.000000000000   0.000000000000   0.000000000000   0.000000000000   0.078568115562   \n",
      "approv  \t|  0.063733509845   0.039192056059   0.040925145224   0.000000000000   0.000000000000   \n",
      "april   \t|  0.000000000000   0.000000000000   0.000000000000   0.000000000000   0.039284057781   \n",
      "argument\t|  0.000000000000   0.000000000000   0.000000000000   0.000000000000   0.039284057781   \n",
      "arrang  \t|  0.047582798815   0.000000000000   0.000000000000   0.000000000000   0.000000000000   \n",
      "arriv   \t|  0.000000000000   0.000000000000   0.000000000000   0.000000000000   0.039284057781   \n",
      "ask     \t|  0.047582798815   0.000000000000   0.000000000000   0.000000000000   0.000000000000   \n",
      "asset   \t|  0.000000000000   0.000000000000   0.000000000000   0.046800821384   0.000000000000   \n",
      "assist  \t|  0.000000000000   0.000000000000   0.000000000000   0.000000000000   0.039284057781   \n",
      "attack  \t|  0.000000000000   0.000000000000   0.000000000000   0.046800821384   0.000000000000   \n",
      "august  \t|  0.000000000000   0.000000000000   0.000000000000   0.046800821384   0.000000000000   \n",
      "author  \t|  0.000000000000   0.000000000000   0.000000000000   0.000000000000   0.039284057781   \n",
      "avail   \t|  0.047582798815   0.000000000000   0.000000000000   0.000000000000   0.000000000000   \n",
      "avoid   \t|  0.047582798815   0.000000000000   0.000000000000   0.000000000000   0.000000000000   \n",
      "awar    \t|  0.000000000000   0.000000000000   0.000000000000   0.000000000000   0.039284057781   \n",
      "bag     \t|  0.000000000000   0.000000000000   0.000000000000   0.000000000000   0.039284057781   \n",
      "bank    \t|  0.187651231972   0.164847965513   0.172137611721   0.184567364861   0.000000000000   \n",
      "bankruptci\t|  0.047582798815   0.000000000000   0.000000000000   0.000000000000   0.000000000000   \n",
      "barclay \t|  0.000000000000   0.000000000000   0.000000000000   0.234004106919   0.000000000000   \n",
      "basi    \t|  0.000000000000   0.000000000000   0.000000000000   0.000000000000   0.039284057781   \n",
      "becom   \t|  0.038389502478   0.000000000000   0.000000000000   0.037758608010   0.000000000000   \n",
      "benefit \t|  0.000000000000   0.047214206055   0.049302038059   0.000000000000   0.000000000000   \n",
      "berlusconi\t|  0.000000000000   0.000000000000   0.000000000000   0.000000000000   0.274988404468   \n",
      "bettino \t|  0.000000000000   0.000000000000   0.000000000000   0.000000000000   0.039284057781   \n",
      "bifu    \t|  0.000000000000   0.000000000000   0.000000000000   0.046800821384   0.000000000000   \n",
      "billion \t|  0.134036594266   0.329695931025   0.206565134066   0.052733532817   0.000000000000   \n",
      "bond    \t|  0.047582798815   0.000000000000   0.000000000000   0.000000000000   0.000000000000   \n",
      "bribe   \t|  0.000000000000   0.000000000000   0.000000000000   0.000000000000   0.039284057781   \n",
      "brighter\t|  0.031866754923   0.039192056059   0.040925145224   0.000000000000   0.000000000000   \n",
      "bring   \t|  0.031866754923   0.078384112119   0.081850290448   0.000000000000   0.000000000000   \n",
      "brink   \t|  0.031866754923   0.039192056059   0.040925145224   0.000000000000   0.000000000000   \n",
      "britain \t|  0.000000000000   0.000000000000   0.000000000000   0.075517216021   0.063388260931   \n",
      "british \t|  0.000000000000   0.000000000000   0.000000000000   0.000000000000   0.039284057781   \n",
      "brother \t|  0.000000000000   0.000000000000   0.000000000000   0.046800821384   0.000000000000   \n",
      "brown   \t|  0.000000000000   0.000000000000   0.000000000000   0.000000000000   0.196420288906   \n",
      "buisi   \t|  0.000000000000   0.000000000000   0.000000000000   0.046800821384   0.000000000000   \n",
      "busi    \t|  0.000000000000   0.000000000000   0.000000000000   0.490861904136   0.031694130465   \n",
      "busiest \t|  0.047582798815   0.000000000000   0.000000000000   0.000000000000   0.000000000000   \n",
      "ca      \t|  0.047582798815   0.000000000000   0.000000000000   0.000000000000   0.000000000000   \n",
      "cap     \t|  0.047582798815   0.000000000000   0.000000000000   0.000000000000   0.000000000000   \n",
      "case    \t|  0.000000000000   0.000000000000   0.000000000000   0.000000000000   0.039284057781   \n",
      "cash    \t|  0.095165597630   0.000000000000   0.000000000000   0.000000000000   0.000000000000   \n",
      "categori\t|  0.000000000000   0.000000000000   0.000000000000   0.093601642767   0.000000000000   \n",
      "ceas    \t|  0.000000000000   0.000000000000   0.000000000000   0.046800821384   0.000000000000   \n",
      "channel \t|  0.026807318853   0.032969593103   0.034427522344   0.000000000000   0.044263905824   \n",
      "charg   \t|  0.000000000000   0.000000000000   0.000000000000   0.000000000000   0.039284057781   \n",
      "choos   \t|  0.031866754923   0.039192056059   0.040925145224   0.000000000000   0.000000000000   \n",
      "chri    \t|  0.000000000000   0.000000000000   0.000000000000   0.000000000000   0.039284057781   \n",
      "clean   \t|  0.000000000000   0.000000000000   0.000000000000   0.046800821384   0.000000000000   \n",
      "clear   \t|  0.000000000000   0.000000000000   0.000000000000   0.046800821384   0.000000000000   \n",
      "club    \t|  0.000000000000   0.000000000000   0.000000000000   0.000000000000   0.039284057781   \n",
      "co-chairman\t|  0.063733509845   0.078384112119   0.081850290448   0.000000000000   0.000000000000   \n",
      "co-oper \t|  0.000000000000   0.000000000000   0.000000000000   0.046800821384   0.000000000000   \n",
      "collaps \t|  0.047582798815   0.000000000000   0.000000000000   0.000000000000   0.000000000000   \n",
      "come    \t|  0.076779004957   0.000000000000   0.000000000000   0.037758608010   0.000000000000   \n",
      "commerci\t|  0.031866754923   0.039192056059   0.040925145224   0.000000000000   0.000000000000   \n",
      "compani \t|  0.321687826238   0.296726337923   0.309847701099   0.000000000000   0.088527811647   \n",
      "compet  \t|  0.000000000000   0.000000000000   0.000000000000   0.046800821384   0.000000000000   \n",
      "competit\t|  0.000000000000   0.000000000000   0.000000000000   0.046800821384   0.000000000000   \n",
      "complex \t|  0.047582798815   0.000000000000   0.000000000000   0.000000000000   0.000000000000   \n",
      "compris \t|  0.000000000000   0.000000000000   0.000000000000   0.046800821384   0.000000000000   \n",
      "compromis\t|  0.000000000000   0.047214206055   0.049302038059   0.000000000000   0.000000000000   \n",
      "comput  \t|  0.000000000000   0.000000000000   0.000000000000   0.046800821384   0.000000000000   \n",
      "confalonieri\t|  0.000000000000   0.000000000000   0.000000000000   0.000000000000   0.039284057781   \n",
      "confer  \t|  0.095165597630   0.000000000000   0.000000000000   0.000000000000   0.000000000000   \n",
      "confirm \t|  0.000000000000   0.000000000000   0.000000000000   0.046800821384   0.000000000000   \n",
      "connect \t|  0.000000000000   0.000000000000   0.000000000000   0.000000000000   0.039284057781   \n",
      "consider\t|  0.063733509845   0.078384112119   0.081850290448   0.000000000000   0.000000000000   \n",
      "consolid\t|  0.026807318853   0.032969593103   0.034427522344   0.079100299226   0.000000000000   \n",
      "constitut\t|  0.047582798815   0.000000000000   0.000000000000   0.000000000000   0.000000000000   \n",
      "construct\t|  0.031866754923   0.039192056059   0.040925145224   0.000000000000   0.000000000000   \n",
      "convert \t|  0.031866754923   0.039192056059   0.040925145224   0.000000000000   0.000000000000   \n",
      "convict \t|  0.000000000000   0.000000000000   0.000000000000   0.000000000000   0.039284057781   \n",
      "core    \t|  0.000000000000   0.000000000000   0.000000000000   0.046800821384   0.000000000000   \n",
      "corrupt \t|  0.000000000000   0.000000000000   0.000000000000   0.000000000000   0.039284057781   \n",
      "cost    \t|  0.047582798815   0.000000000000   0.000000000000   0.000000000000   0.000000000000   \n",
      "court   \t|  0.000000000000   0.000000000000   0.000000000000   0.000000000000   0.078568115562   \n",
      "coy     \t|  0.000000000000   0.000000000000   0.000000000000   0.046800821384   0.000000000000   \n",
      "craxi   \t|  0.000000000000   0.000000000000   0.000000000000   0.000000000000   0.039284057781   \n",
      "creditor\t|  0.063733509845   0.039192056059   0.040925145224   0.000000000000   0.000000000000   \n",
      "crimin  \t|  0.000000000000   0.000000000000   0.000000000000   0.000000000000   0.039284057781   \n",
      "crippl  \t|  0.031866754923   0.039192056059   0.040925145224   0.000000000000   0.000000000000   \n",
      "cross-channel\t|  0.031866754923   0.039192056059   0.040925145224   0.000000000000   0.000000000000   \n",
      "current \t|  0.076779004957   0.000000000000   0.000000000000   0.000000000000   0.031694130465   \n",
      "custodi \t|  0.000000000000   0.000000000000   0.000000000000   0.327605749686   0.000000000000   \n",
      "date    \t|  0.000000000000   0.047214206055   0.049302038059   0.000000000000   0.000000000000   \n"
     ]
    },
    {
     "name": "stdout",
     "output_type": "stream",
     "text": [
      "david   \t|  0.000000000000   0.000000000000   0.000000000000   0.000000000000   0.039284057781   \n",
      "deal    \t|  0.187651231972   0.098908779308   0.103282567033   0.026366766409   0.000000000000   \n",
      "debt    \t|  0.191200529536   0.156768224238   0.163700580897   0.000000000000   0.000000000000   \n",
      "debt-for-equ\t|  0.031866754923   0.039192056059   0.040925145224   0.000000000000   0.000000000000   \n",
      "decemb  \t|  0.031866754923   0.039192056059   0.040925145224   0.000000000000   0.000000000000   \n",
      "decid   \t|  0.000000000000   0.000000000000   0.000000000000   0.037758608010   0.031694130465   \n",
      "decis   \t|  0.000000000000   0.000000000000   0.000000000000   0.037758608010   0.031694130465   \n",
      "depreci \t|  0.047582798815   0.000000000000   0.000000000000   0.000000000000   0.000000000000   \n",
      "describ \t|  0.000000000000   0.000000000000   0.000000000000   0.000000000000   0.039284057781   \n",
      "despit  \t|  0.047582798815   0.000000000000   0.000000000000   0.000000000000   0.000000000000   \n",
      "develop \t|  0.031866754923   0.039192056059   0.040925145224   0.000000000000   0.000000000000   \n",
      "dickson \t|  0.000000000000   0.000000000000   0.000000000000   0.000000000000   0.039284057781   \n",
      "difficult\t|  0.047582798815   0.000000000000   0.000000000000   0.000000000000   0.000000000000   \n",
      "dilut   \t|  0.031866754923   0.039192056059   0.040925145224   0.000000000000   0.000000000000   \n",
      "director\t|  0.000000000000   0.000000000000   0.000000000000   0.000000000000   0.039284057781   \n",
      "discuss \t|  0.000000000000   0.000000000000   0.000000000000   0.093601642767   0.000000000000   \n",
      "dividend\t|  0.063733509845   0.039192056059   0.040925145224   0.000000000000   0.000000000000   \n",
      "document\t|  0.000000000000   0.000000000000   0.000000000000   0.000000000000   0.117852173343   \n",
      "domin   \t|  0.000000000000   0.000000000000   0.000000000000   0.093601642767   0.000000000000   \n",
      "donat   \t|  0.000000000000   0.000000000000   0.000000000000   0.000000000000   0.039284057781   \n",
      "doomsday\t|  0.047582798815   0.000000000000   0.000000000000   0.000000000000   0.000000000000   \n",
      "dwindl  \t|  0.047582798815   0.000000000000   0.000000000000   0.000000000000   0.000000000000   \n",
      "earli   \t|  0.095600264768   0.039192056059   0.040925145224   0.000000000000   0.000000000000   \n",
      "earlier \t|  0.000000000000   0.000000000000   0.000000000000   0.000000000000   0.039284057781   \n",
      "east    \t|  0.000000000000   0.000000000000   0.000000000000   0.046800821384   0.000000000000   \n",
      "econom  \t|  0.000000000000   0.000000000000   0.000000000000   0.046800821384   0.000000000000   \n",
      "economi \t|  0.000000000000   0.000000000000   0.000000000000   0.046800821384   0.000000000000   \n",
      "end     \t|  0.026807318853   0.065939186205   0.068855044689   0.000000000000   0.022131952912   \n",
      "english \t|  0.000000000000   0.000000000000   0.000000000000   0.000000000000   0.039284057781   \n",
      "entitl  \t|  0.031866754923   0.039192056059   0.040925145224   0.000000000000   0.000000000000   \n",
      "equiti  \t|  0.047582798815   0.000000000000   0.000000000000   0.000000000000   0.000000000000   \n",
      "european\t|  0.031866754923   0.039192056059   0.040925145224   0.000000000000   0.000000000000   \n",
      "eurotunnel\t|  0.318667549226   0.431112616654   0.450176597466   0.000000000000   0.000000000000   \n",
      "exist   \t|  0.031866754923   0.039192056059   0.040925145224   0.000000000000   0.000000000000   \n",
      "expect  \t|  0.000000000000   0.000000000000   0.000000000000   0.037758608010   0.031694130465   \n",
      "expedit \t|  0.000000000000   0.000000000000   0.000000000000   0.000000000000   0.039284057781   \n",
      "explor  \t|  0.000000000000   0.000000000000   0.000000000000   0.046800821384   0.000000000000   \n",
      "extend  \t|  0.000000000000   0.047214206055   0.049302038059   0.000000000000   0.000000000000   \n",
      "face    \t|  0.000000000000   0.000000000000   0.000000000000   0.046800821384   0.000000000000   \n",
      "fals    \t|  0.000000000000   0.000000000000   0.000000000000   0.000000000000   0.078568115562   \n",
      "far     \t|  0.000000000000   0.000000000000   0.000000000000   0.046800821384   0.000000000000   \n",
      "far-reach\t|  0.000000000000   0.000000000000   0.000000000000   0.000000000000   0.039284057781   \n",
      "fedel   \t|  0.000000000000   0.000000000000   0.000000000000   0.000000000000   0.039284057781   \n",
      "fee     \t|  0.000000000000   0.000000000000   0.000000000000   0.046800821384   0.000000000000   \n",
      "ferri   \t|  0.031866754923   0.039192056059   0.040925145224   0.000000000000   0.000000000000   \n",
      "fifti   \t|  0.000000000000   0.000000000000   0.000000000000   0.046800821384   0.000000000000   \n",
      "fight   \t|  0.000000000000   0.000000000000   0.000000000000   0.000000000000   0.039284057781   \n",
      "finalis \t|  0.026807318853   0.032969593103   0.034427522344   0.026366766409   0.000000000000   \n",
      "financ  \t|  0.038389502478   0.000000000000   0.000000000000   0.037758608010   0.000000000000   \n",
      "financi \t|  0.063733509845   0.078384112119   0.081850290448   0.000000000000   0.000000000000   \n",
      "fininvest\t|  0.000000000000   0.000000000000   0.000000000000   0.000000000000   0.078568115562   \n",
      "firm    \t|  0.031866754923   0.039192056059   0.040925145224   0.000000000000   0.000000000000   \n",
      "fish    \t|  0.000000000000   0.000000000000   0.000000000000   0.000000000000   0.039284057781   \n",
      "fix     \t|  0.047582798815   0.000000000000   0.000000000000   0.000000000000   0.000000000000   \n",
      "flow    \t|  0.047582798815   0.000000000000   0.000000000000   0.000000000000   0.000000000000   \n",
      "follow  \t|  0.000000000000   0.047214206055   0.049302038059   0.000000000000   0.000000000000   \n",
      "footbal \t|  0.000000000000   0.000000000000   0.000000000000   0.000000000000   0.039284057781   \n",
      "formula \t|  0.047582798815   0.000000000000   0.000000000000   0.000000000000   0.000000000000   \n",
      "forward \t|  0.038389502478   0.000000000000   0.000000000000   0.000000000000   0.063388260931   \n",
      "franc   \t|  0.053614637706   0.032969593103   0.034427522344   0.026366766409   0.000000000000   \n",
      "fraud   \t|  0.000000000000   0.000000000000   0.000000000000   0.000000000000   0.196420288906   \n",
      "free    \t|  0.031866754923   0.039192056059   0.040925145224   0.000000000000   0.000000000000   \n",
      "french  \t|  0.031866754923   0.039192056059   0.040925145224   0.000000000000   0.000000000000   \n",
      "friday  \t|  0.000000000000   0.000000000000   0.000000000000   0.000000000000   0.117852173343   \n",
      "front-end\t|  0.000000000000   0.000000000000   0.000000000000   0.046800821384   0.000000000000   \n",
      "futur   \t|  0.053614637706   0.032969593103   0.034427522344   0.052733532817   0.000000000000   \n",
      "gage    \t|  0.000000000000   0.000000000000   0.000000000000   0.000000000000   0.039284057781   \n",
      "game    \t|  0.047582798815   0.000000000000   0.000000000000   0.000000000000   0.000000000000   \n",
      "given   \t|  0.000000000000   0.000000000000   0.000000000000   0.000000000000   0.039284057781   \n",
      "global  \t|  0.000000000000   0.000000000000   0.000000000000   0.187203285535   0.000000000000   \n",
      "gone    \t|  0.000000000000   0.000000000000   0.000000000000   0.000000000000   0.039284057781   \n",
      "grant   \t|  0.047582798815   0.000000000000   0.000000000000   0.000000000000   0.000000000000   \n",
      "ground  \t|  0.000000000000   0.000000000000   0.000000000000   0.000000000000   0.117852173343   \n",
      "group   \t|  0.038389502478   0.000000000000   0.000000000000   0.075517216021   0.000000000000   \n",
      "guarante\t|  0.000000000000   0.000000000000   0.000000000000   0.046800821384   0.000000000000   \n",
      "guilt   \t|  0.000000000000   0.000000000000   0.000000000000   0.000000000000   0.039284057781   \n",
      "half    \t|  0.031866754923   0.039192056059   0.040925145224   0.000000000000   0.000000000000   \n",
      "half-year\t|  0.000000000000   0.000000000000   0.000000000000   0.046800821384   0.000000000000   \n",
      "happen  \t|  0.047582798815   0.000000000000   0.000000000000   0.000000000000   0.000000000000   \n",
      "happi   \t|  0.000000000000   0.000000000000   0.000000000000   0.000000000000   0.039284057781   \n",
      "hear    \t|  0.000000000000   0.000000000000   0.000000000000   0.000000000000   0.196420288906   \n",
      "help    \t|  0.047582798815   0.000000000000   0.000000000000   0.000000000000   0.000000000000   \n",
      "high    \t|  0.000000000000   0.000000000000   0.000000000000   0.000000000000   0.039284057781   \n",
      "highli  \t|  0.031866754923   0.039192056059   0.040925145224   0.000000000000   0.000000000000   \n",
      "hold    \t|  0.038389502478   0.000000000000   0.000000000000   0.000000000000   0.031694130465   \n",
      "holder  \t|  0.000000000000   0.047214206055   0.049302038059   0.000000000000   0.000000000000   \n",
      "home    \t|  0.000000000000   0.000000000000   0.000000000000   0.000000000000   0.039284057781   \n",
      "hope    \t|  0.047582798815   0.000000000000   0.000000000000   0.000000000000   0.000000000000   \n",
      "hous    \t|  0.000000000000   0.000000000000   0.000000000000   0.000000000000   0.117852173343   \n",
      "howev   \t|  0.000000000000   0.000000000000   0.000000000000   0.000000000000   0.039284057781   \n",
      "illeg   \t|  0.000000000000   0.000000000000   0.000000000000   0.000000000000   0.039284057781   \n",
      "illicit \t|  0.000000000000   0.000000000000   0.000000000000   0.000000000000   0.039284057781   \n",
      "immedi  \t|  0.000000000000   0.000000000000   0.000000000000   0.000000000000   0.039284057781   \n",
      "imper   \t|  0.000000000000   0.000000000000   0.000000000000   0.000000000000   0.039284057781   \n",
      "includ  \t|  0.000000000000   0.000000000000   0.000000000000   0.140402464151   0.000000000000   \n",
      "incom   \t|  0.000000000000   0.000000000000   0.000000000000   0.046800821384   0.000000000000   \n",
      "individu\t|  0.000000000000   0.000000000000   0.000000000000   0.000000000000   0.039284057781   \n",
      "ingeni  \t|  0.047582798815   0.000000000000   0.000000000000   0.000000000000   0.000000000000   \n",
      "insensit\t|  0.000000000000   0.000000000000   0.000000000000   0.046800821384   0.000000000000   \n",
      "insolv  \t|  0.000000000000   0.047214206055   0.049302038059   0.000000000000   0.000000000000   \n",
      "inspector\t|  0.000000000000   0.000000000000   0.000000000000   0.000000000000   0.039284057781   \n",
      "instruct\t|  0.000000000000   0.047214206055   0.049302038059   0.000000000000   0.000000000000   \n",
      "instrument\t|  0.031866754923   0.039192056059   0.040925145224   0.000000000000   0.000000000000   \n",
      "intent  \t|  0.000000000000   0.000000000000   0.000000000000   0.046800821384   0.000000000000   \n",
      "interim \t|  0.000000000000   0.000000000000   0.000000000000   0.046800821384   0.000000000000   \n",
      "intern  \t|  0.000000000000   0.000000000000   0.000000000000   0.000000000000   0.078568115562   \n",
      "invest  \t|  0.076779004957   0.000000000000   0.000000000000   0.113275824031   0.000000000000   \n",
      "investig\t|  0.000000000000   0.000000000000   0.000000000000   0.000000000000   0.117852173343   \n",
      "involv  \t|  0.000000000000   0.000000000000   0.000000000000   0.000000000000   0.039284057781   \n",
      "issu    \t|  0.095600264768   0.039192056059   0.040925145224   0.000000000000   0.000000000000   \n",
      "itali   \t|  0.000000000000   0.000000000000   0.000000000000   0.000000000000   0.078568115562   \n",
      "italian \t|  0.000000000000   0.000000000000   0.000000000000   0.000000000000   0.274988404468   \n",
      "job     \t|  0.000000000000   0.000000000000   0.000000000000   0.000000000000   0.039284057781   \n",
      "john    \t|  0.000000000000   0.000000000000   0.000000000000   0.046800821384   0.000000000000   \n",
      "judg    \t|  0.000000000000   0.000000000000   0.000000000000   0.000000000000   0.117852173343   \n",
      "judgement\t|  0.000000000000   0.000000000000   0.000000000000   0.000000000000   0.078568115562   \n",
      "june    \t|  0.000000000000   0.000000000000   0.000000000000   0.046800821384   0.000000000000   \n",
      "justic  \t|  0.000000000000   0.000000000000   0.000000000000   0.000000000000   0.078568115562   \n",
      "justifi \t|  0.000000000000   0.000000000000   0.000000000000   0.000000000000   0.039284057781   \n",
      "larg    \t|  0.000000000000   0.000000000000   0.000000000000   0.113275824031   0.031694130465   \n",
      "larger  \t|  0.000000000000   0.000000000000   0.000000000000   0.000000000000   0.039284057781   \n",
      "late    \t|  0.000000000000   0.039192056059   0.040925145224   0.000000000000   0.026308991334   \n",
      "later   \t|  0.000000000000   0.000000000000   0.000000000000   0.046800821384   0.000000000000   \n",
      "law     \t|  0.000000000000   0.000000000000   0.000000000000   0.000000000000   0.039284057781   \n",
      "lawyer  \t|  0.000000000000   0.000000000000   0.000000000000   0.000000000000   0.078568115562   \n",
      "lead    \t|  0.000000000000   0.039192056059   0.040925145224   0.000000000000   0.026308991334   \n",
      "leak    \t|  0.000000000000   0.000000000000   0.000000000000   0.046800821384   0.000000000000   \n",
      "leav    \t|  0.026807318853   0.032969593103   0.034427522344   0.000000000000   0.022131952912   \n",
      "legal   \t|  0.000000000000   0.000000000000   0.000000000000   0.000000000000   0.039284057781   \n",
      "lend    \t|  0.000000000000   0.000000000000   0.000000000000   0.093601642767   0.000000000000   \n",
      "leonard \t|  0.000000000000   0.000000000000   0.000000000000   0.140402464151   0.000000000000   \n",
      "level   \t|  0.022673458586   0.027885470677   0.029118577891   0.022300842150   0.018719064018   \n",
      "lifelin \t|  0.047582798815   0.000000000000   0.000000000000   0.000000000000   0.000000000000   \n",
      "like    \t|  0.047582798815   0.000000000000   0.000000000000   0.000000000000   0.000000000000   \n",
      "link    \t|  0.000000000000   0.000000000000   0.000000000000   0.000000000000   0.039284057781   \n",
      "lloyd   \t|  0.000000000000   0.000000000000   0.000000000000   0.046800821384   0.000000000000   \n",
      "london  \t|  0.026807318853   0.065939186205   0.068855044689   0.000000000000   0.044263905824   \n",
      "long-await\t|  0.031866754923   0.039192056059   0.040925145224   0.000000000000   0.000000000000   \n",
      "long-term\t|  0.000000000000   0.000000000000   0.000000000000   0.046800821384   0.000000000000   \n",
      "look    \t|  0.031866754923   0.000000000000   0.000000000000   0.031343055523   0.026308991334   \n",
      "lord    \t|  0.000000000000   0.000000000000   0.000000000000   0.000000000000   0.157136231124   \n",
      "lost    \t|  0.000000000000   0.000000000000   0.000000000000   0.000000000000   0.039284057781   \n",
      "low     \t|  0.000000000000   0.000000000000   0.000000000000   0.046800821384   0.000000000000   \n",
      "main    \t|  0.000000000000   0.000000000000   0.000000000000   0.000000000000   0.039284057781   \n",
      "major   \t|  0.047582798815   0.000000000000   0.000000000000   0.000000000000   0.000000000000   \n",
      "make    \t|  0.022673458586   0.027885470677   0.029118577891   0.022300842150   0.018719064018   \n",
      "mark    \t|  0.000000000000   0.000000000000   0.000000000000   0.046800821384   0.000000000000   \n",
      "market  \t|  0.026807318853   0.032969593103   0.034427522344   0.052733532817   0.000000000000   \n",
      "massiv  \t|  0.047582798815   0.000000000000   0.000000000000   0.000000000000   0.000000000000   \n",
      "maximum \t|  0.047582798815   0.000000000000   0.000000000000   0.000000000000   0.000000000000   \n",
      "mean    \t|  0.000000000000   0.000000000000   0.000000000000   0.000000000000   0.039284057781   \n",
      "measur  \t|  0.000000000000   0.000000000000   0.000000000000   0.046800821384   0.000000000000   \n",
      "medium  \t|  0.038389502478   0.000000000000   0.049302038059   0.000000000000   0.000000000000   \n",
      "medium-term\t|  0.000000000000   0.058520791438   0.000000000000   0.000000000000   0.000000000000   \n",
      "meet    \t|  0.031866754923   0.039192056059   0.040925145224   0.000000000000   0.000000000000   \n",
      "milan   \t|  0.000000000000   0.000000000000   0.000000000000   0.000000000000   0.117852173343   \n",
      "million \t|  0.095600264768   0.000000000000   0.000000000000   0.094029166570   0.052617982668   \n",
      "minist  \t|  0.000000000000   0.000000000000   0.000000000000   0.000000000000   0.117852173343   \n",
      "monday  \t|  0.053614637706   0.098908779308   0.103282567033   0.026366766409   0.000000000000   \n",
      "month   \t|  0.026807318853   0.065939186205   0.068855044689   0.000000000000   0.022131952912   \n",
      "morgan  \t|  0.000000000000   0.000000000000   0.000000000000   0.140402464151   0.000000000000   \n",
      "morn    \t|  0.000000000000   0.000000000000   0.000000000000   0.000000000000   0.039284057781   \n",
      "morton  \t|  0.127467019691   0.039192056059   0.040925145224   0.000000000000   0.000000000000   \n",
      "mountain\t|  0.000000000000   0.000000000000   0.061108605392   0.000000000000   0.000000000000   \n",
      "mr      \t|  0.000000000000   0.000000000000   0.000000000000   0.000000000000   0.039284057781   \n",
      "multi-facet\t|  0.000000000000   0.000000000000   0.000000000000   0.000000000000   0.039284057781   \n",
      "n't     \t|  0.047582798815   0.000000000000   0.000000000000   0.000000000000   0.000000000000   \n",
      "natur   \t|  0.000000000000   0.000000000000   0.000000000000   0.046800821384   0.000000000000   \n",
      "nearli  \t|  0.063733509845   0.039192056059   0.040925145224   0.000000000000   0.000000000000   \n",
      "necessari\t|  0.000000000000   0.000000000000   0.000000000000   0.046800821384   0.000000000000   \n",
      "need    \t|  0.000000000000   0.000000000000   0.000000000000   0.046800821384   0.000000000000   \n",
      "negoti  \t|  0.031866754923   0.078384112119   0.081850290448   0.000000000000   0.000000000000   \n",
      "new     \t|  0.031866754923   0.039192056059   0.040925145224   0.000000000000   0.000000000000   \n",
      "news    \t|  0.095165597630   0.000000000000   0.000000000000   0.000000000000   0.000000000000   \n",
      "nobodi  \t|  0.095165597630   0.000000000000   0.000000000000   0.000000000000   0.000000000000   \n",
      "note    \t|  0.115168507435   0.000000000000   0.000000000000   0.000000000000   0.031694130465   \n",
      "noth    \t|  0.000000000000   0.000000000000   0.000000000000   0.000000000000   0.039284057781   \n",
      "number  \t|  0.000000000000   0.000000000000   0.000000000000   0.000000000000   0.078568115562   \n",
      "offenc  \t|  0.000000000000   0.000000000000   0.000000000000   0.000000000000   0.039284057781   \n",
      "offer   \t|  0.031866754923   0.039192056059   0.040925145224   0.000000000000   0.000000000000   \n",
      "offic   \t|  0.000000000000   0.000000000000   0.000000000000   0.000000000000   0.157136231124   \n",
      "offshor \t|  0.000000000000   0.000000000000   0.000000000000   0.000000000000   0.039284057781   \n",
      "oper    \t|  0.095600264768   0.117576168178   0.122775435673   0.000000000000   0.000000000000   \n",
      "outstand\t|  0.000000000000   0.047214206055   0.049302038059   0.000000000000   0.000000000000   \n",
      "owe     \t|  0.000000000000   0.047214206055   0.049302038059   0.000000000000   0.000000000000   \n",
      "paper   \t|  0.000000000000   0.000000000000   0.000000000000   0.000000000000   0.157136231124   \n",
      "pari    \t|  0.063733509845   0.039192056059   0.040925145224   0.000000000000   0.000000000000   \n",
      "particip\t|  0.031866754923   0.039192056059   0.040925145224   0.000000000000   0.000000000000   \n",
      "patient \t|  0.031866754923   0.039192056059   0.040925145224   0.000000000000   0.000000000000   \n",
      "patrick \t|  0.031866754923   0.039192056059   0.040925145224   0.000000000000   0.000000000000   \n",
      "pay     \t|  0.080421956560   0.032969593103   0.034427522344   0.026366766409   0.000000000000   \n",
      "payment \t|  0.053614637706   0.032969593103   0.034427522344   0.000000000000   0.022131952912   \n",
      "penc    \t|  0.095600264768   0.117576168178   0.122775435673   0.000000000000   0.000000000000   \n",
      "percent \t|  0.095600264768   0.117576168178   0.122775435673   0.000000000000   0.000000000000   \n",
      "perform \t|  0.053614637706   0.032969593103   0.034427522344   0.026366766409   0.000000000000   \n",
      "place   \t|  0.000000000000   0.000000000000   0.000000000000   0.037758608010   0.031694130465   \n",
      "plan    \t|  0.063733509845   0.117576168178   0.122775435673   0.000000000000   0.000000000000   \n",
      "plc     \t|  0.000000000000   0.000000000000   0.000000000000   0.046800821384   0.000000000000   \n",
      "point   \t|  0.000000000000   0.000000000000   0.000000000000   0.000000000000   0.039284057781   \n",
      "polit   \t|  0.000000000000   0.000000000000   0.000000000000   0.000000000000   0.039284057781   \n",
      "politician\t|  0.000000000000   0.000000000000   0.000000000000   0.000000000000   0.039284057781   \n",
      "ponsol  \t|  0.031866754923   0.039192056059   0.040925145224   0.000000000000   0.000000000000   \n",
      "posit   \t|  0.047582798815   0.000000000000   0.000000000000   0.000000000000   0.000000000000   \n",
      "potenti \t|  0.000000000000   0.000000000000   0.000000000000   0.046800821384   0.000000000000   \n",
      "pound   \t|  0.181387668687   0.111541882707   0.145592889457   0.111504210750   0.037438128037   \n",
      "presid  \t|  0.000000000000   0.000000000000   0.000000000000   0.000000000000   0.039284057781   \n",
      "press   \t|  0.000000000000   0.000000000000   0.000000000000   0.046800821384   0.000000000000   \n",
      "presum  \t|  0.000000000000   0.000000000000   0.000000000000   0.046800821384   0.000000000000   \n",
      "presumpt\t|  0.000000000000   0.000000000000   0.000000000000   0.000000000000   0.039284057781   \n",
      "pretti  \t|  0.047582798815   0.000000000000   0.000000000000   0.000000000000   0.000000000000   \n",
      "primarili\t|  0.000000000000   0.000000000000   0.000000000000   0.046800821384   0.000000000000   \n",
      "prime   \t|  0.000000000000   0.000000000000   0.000000000000   0.000000000000   0.117852173343   \n",
      "probabl \t|  0.031866754923   0.039192056059   0.040925145224   0.000000000000   0.000000000000   \n",
      "proceed \t|  0.000000000000   0.000000000000   0.000000000000   0.000000000000   0.039284057781   \n",
      "profit  \t|  0.026807318853   0.032969593103   0.034427522344   0.026366766409   0.000000000000   \n",
      "prosecut\t|  0.000000000000   0.000000000000   0.000000000000   0.000000000000   0.039284057781   \n",
      "prospect\t|  0.031866754923   0.039192056059   0.040925145224   0.000000000000   0.000000000000   \n",
      "provid  \t|  0.031866754923   0.039192056059   0.040925145224   0.000000000000   0.000000000000   \n",
      "publish \t|  0.000000000000   0.000000000000   0.000000000000   0.046800821384   0.000000000000   \n",
      "purpos  \t|  0.000000000000   0.000000000000   0.000000000000   0.000000000000   0.039284057781   \n",
      "question\t|  0.000000000000   0.000000000000   0.000000000000   0.000000000000   0.039284057781   \n",
      "rais    \t|  0.000000000000   0.000000000000   0.000000000000   0.000000000000   0.039284057781   \n",
      "rake    \t|  0.000000000000   0.000000000000   0.000000000000   0.046800821384   0.000000000000   \n",
      "rang    \t|  0.000000000000   0.000000000000   0.000000000000   0.046800821384   0.000000000000   \n",
      "reap    \t|  0.000000000000   0.047214206055   0.049302038059   0.000000000000   0.000000000000   \n",
      "recognis\t|  0.000000000000   0.000000000000   0.000000000000   0.000000000000   0.039284057781   \n",
      "reduc   \t|  0.063733509845   0.117576168178   0.122775435673   0.000000000000   0.000000000000   \n",
      "reject  \t|  0.038389502478   0.000000000000   0.000000000000   0.000000000000   0.095082391396   \n",
      "rel     \t|  0.000000000000   0.000000000000   0.000000000000   0.046800821384   0.000000000000   \n",
      "remov   \t|  0.000000000000   0.000000000000   0.000000000000   0.000000000000   0.039284057781   \n",
      "report  \t|  0.080421956560   0.032969593103   0.034427522344   0.026366766409   0.000000000000   \n",
      "repres  \t|  0.000000000000   0.000000000000   0.000000000000   0.000000000000   0.039284057781   \n",
      "request \t|  0.000000000000   0.000000000000   0.000000000000   0.000000000000   0.039284057781   \n",
      "requir  \t|  0.000000000000   0.000000000000   0.000000000000   0.046800821384   0.000000000000   \n",
      "respond \t|  0.000000000000   0.000000000000   0.000000000000   0.046800821384   0.000000000000   \n",
      "restructur\t|  0.026807318853   0.098908779308   0.103282567033   0.052733532817   0.000000000000   \n",
      "result  \t|  0.000000000000   0.000000000000   0.000000000000   0.046800821384   0.000000000000   \n",
      "resum   \t|  0.031866754923   0.039192056059   0.040925145224   0.000000000000   0.000000000000   \n",
      "return  \t|  0.031866754923   0.039192056059   0.040925145224   0.000000000000   0.000000000000   \n",
      "revenu  \t|  0.038389502478   0.000000000000   0.000000000000   0.000000000000   0.031694130465   \n",
      "risk    \t|  0.000000000000   0.000000000000   0.000000000000   0.046800821384   0.000000000000   \n",
      "risk-fre\t|  0.000000000000   0.000000000000   0.000000000000   0.046800821384   0.000000000000   \n",
      "roll    \t|  0.047582798815   0.000000000000   0.000000000000   0.000000000000   0.000000000000   \n",
      "rout    \t|  0.047582798815   0.000000000000   0.000000000000   0.000000000000   0.000000000000   \n",
      "royal   \t|  0.000000000000   0.000000000000   0.000000000000   0.046800821384   0.000000000000   \n",
      "rule    \t|  0.000000000000   0.000000000000   0.000000000000   0.000000000000   0.117852173343   \n"
     ]
    },
    {
     "name": "stdout",
     "output_type": "stream",
     "text": [
      "run     \t|  0.038389502478   0.000000000000   0.049302038059   0.000000000000   0.000000000000   \n",
      "safekeep\t|  0.000000000000   0.000000000000   0.000000000000   0.046800821384   0.000000000000   \n",
      "said    \t|  0.204061127273   0.223083765415   0.232948623132   0.156105895050   0.168471576164   \n",
      "sale    \t|  0.000000000000   0.000000000000   0.000000000000   0.046800821384   0.000000000000   \n",
      "salomon \t|  0.000000000000   0.000000000000   0.000000000000   0.046800821384   0.000000000000   \n",
      "say     \t|  0.000000000000   0.000000000000   0.000000000000   0.093601642767   0.000000000000   \n",
      "scale   \t|  0.000000000000   0.000000000000   0.000000000000   0.046800821384   0.000000000000   \n",
      "scenario\t|  0.047582798815   0.000000000000   0.000000000000   0.000000000000   0.000000000000   \n",
      "scotland\t|  0.000000000000   0.000000000000   0.000000000000   0.046800821384   0.000000000000   \n",
      "scratch \t|  0.000000000000   0.000000000000   0.000000000000   0.046800821384   0.000000000000   \n",
      "search  \t|  0.000000000000   0.000000000000   0.000000000000   0.000000000000   0.039284057781   \n",
      "secret  \t|  0.000000000000   0.047214206055   0.049302038059   0.000000000000   0.000000000000   \n",
      "secur   \t|  0.038389502478   0.000000000000   0.000000000000   0.075517216021   0.000000000000   \n",
      "seen    \t|  0.047582798815   0.000000000000   0.000000000000   0.000000000000   0.000000000000   \n",
      "seiz    \t|  0.000000000000   0.000000000000   0.000000000000   0.000000000000   0.039284057781   \n",
      "senior  \t|  0.000000000000   0.000000000000   0.000000000000   0.000000000000   0.039284057781   \n",
      "sent    \t|  0.000000000000   0.000000000000   0.000000000000   0.000000000000   0.039284057781   \n",
      "seriou  \t|  0.000000000000   0.000000000000   0.000000000000   0.000000000000   0.039284057781   \n",
      "seven   \t|  0.038389502478   0.000000000000   0.000000000000   0.000000000000   0.031694130465   \n",
      "sfo     \t|  0.000000000000   0.000000000000   0.000000000000   0.000000000000   0.196420288906   \n",
      "share   \t|  0.063733509845   0.117576168178   0.122775435673   0.000000000000   0.000000000000   \n",
      "sharehold\t|  0.223067284458   0.235152336357   0.245550871345   0.000000000000   0.000000000000   \n",
      "signific\t|  0.000000000000   0.000000000000   0.000000000000   0.046800821384   0.000000000000   \n",
      "silvio  \t|  0.000000000000   0.000000000000   0.000000000000   0.000000000000   0.039284057781   \n",
      "simon   \t|  0.000000000000   0.000000000000   0.000000000000   0.000000000000   0.039284057781   \n",
      "simultan\t|  0.031866754923   0.039192056059   0.040925145224   0.000000000000   0.000000000000   \n",
      "small   \t|  0.000000000000   0.000000000000   0.000000000000   0.046800821384   0.000000000000   \n",
      "sold    \t|  0.000000000000   0.000000000000   0.000000000000   0.046800821384   0.000000000000   \n",
      "sourc   \t|  0.000000000000   0.000000000000   0.000000000000   0.037758608010   0.031694130465   \n",
      "specul  \t|  0.000000000000   0.000000000000   0.000000000000   0.046800821384   0.000000000000   \n",
      "speedi  \t|  0.000000000000   0.000000000000   0.000000000000   0.000000000000   0.039284057781   \n",
      "spring  \t|  0.047582798815   0.000000000000   0.000000000000   0.000000000000   0.000000000000   \n",
      "stabil  \t|  0.031866754923   0.039192056059   0.040925145224   0.000000000000   0.000000000000   \n",
      "stabilis\t|  0.095165597630   0.000000000000   0.000000000000   0.000000000000   0.000000000000   \n",
      "staff   \t|  0.000000000000   0.000000000000   0.000000000000   0.093601642767   0.000000000000   \n",
      "stage   \t|  0.000000000000   0.000000000000   0.000000000000   0.046800821384   0.000000000000   \n",
      "stanley \t|  0.000000000000   0.000000000000   0.000000000000   0.140402464151   0.000000000000   \n",
      "state   \t|  0.000000000000   0.000000000000   0.000000000000   0.046800821384   0.000000000000   \n",
      "statement\t|  0.031866754923   0.000000000000   0.040925145224   0.000000000000   0.026308991334   \n",
      "steadi  \t|  0.000000000000   0.000000000000   0.000000000000   0.046800821384   0.000000000000   \n",
      "stem    \t|  0.000000000000   0.000000000000   0.000000000000   0.000000000000   0.039284057781   \n",
      "step    \t|  0.000000000000   0.000000000000   0.000000000000   0.093601642767   0.000000000000   \n",
      "stock   \t|  0.000000000000   0.000000000000   0.000000000000   0.046800821384   0.000000000000   \n",
      "stream  \t|  0.000000000000   0.000000000000   0.000000000000   0.046800821384   0.000000000000   \n",
      "strengthen\t|  0.000000000000   0.000000000000   0.000000000000   0.000000000000   0.039284057781   \n",
      "strong  \t|  0.031866754923   0.039192056059   0.040925145224   0.000000000000   0.000000000000   \n",
      "submit  \t|  0.031866754923   0.039192056059   0.040925145224   0.000000000000   0.000000000000   \n",
      "subscrib\t|  0.031866754923   0.039192056059   0.040925145224   0.000000000000   0.000000000000   \n",
      "substanti\t|  0.000000000000   0.047214206055   0.049302038059   0.000000000000   0.000000000000   \n",
      "succeed \t|  0.000000000000   0.000000000000   0.000000000000   0.000000000000   0.039284057781   \n",
      "success \t|  0.000000000000   0.047214206055   0.049302038059   0.000000000000   0.000000000000   \n",
      "sum     \t|  0.000000000000   0.000000000000   0.000000000000   0.046800821384   0.000000000000   \n",
      "surreptiti\t|  0.000000000000   0.000000000000   0.000000000000   0.000000000000   0.039284057781   \n",
      "suspect \t|  0.000000000000   0.000000000000   0.000000000000   0.000000000000   0.039284057781   \n",
      "suspend \t|  0.031866754923   0.039192056059   0.040925145224   0.000000000000   0.000000000000   \n",
      "sustain \t|  0.047582798815   0.000000000000   0.000000000000   0.000000000000   0.000000000000   \n",
      "swap    \t|  0.063733509845   0.039192056059   0.040925145224   0.000000000000   0.000000000000   \n",
      "syndic  \t|  0.000000000000   0.047214206055   0.049302038059   0.000000000000   0.000000000000   \n",
      "taken   \t|  0.026807318853   0.032969593103   0.034427522344   0.026366766409   0.000000000000   \n",
      "talk    \t|  0.000000000000   0.000000000000   0.000000000000   0.046800821384   0.000000000000   \n",
      "term    \t|  0.038389502478   0.000000000000   0.049302038059   0.000000000000   0.000000000000   \n",
      "thought \t|  0.000000000000   0.000000000000   0.000000000000   0.000000000000   0.039284057781   \n",
      "throw   \t|  0.047582798815   0.000000000000   0.000000000000   0.000000000000   0.000000000000   \n",
      "time    \t|  0.038389502478   0.000000000000   0.000000000000   0.037758608010   0.000000000000   \n",
      "today   \t|  0.000000000000   0.000000000000   0.000000000000   0.000000000000   0.039284057781   \n",
      "told    \t|  0.095165597630   0.000000000000   0.000000000000   0.000000000000   0.000000000000   \n",
      "total   \t|  0.000000000000   0.000000000000   0.000000000000   0.046800821384   0.000000000000   \n",
      "trade   \t|  0.031866754923   0.039192056059   0.040925145224   0.000000000000   0.000000000000   \n",
      "tradit  \t|  0.000000000000   0.000000000000   0.000000000000   0.046800821384   0.000000000000   \n",
      "transfer\t|  0.000000000000   0.000000000000   0.000000000000   0.000000000000   0.117852173343   \n",
      "transit \t|  0.000000000000   0.000000000000   0.000000000000   0.093601642767   0.000000000000   \n",
      "treat   \t|  0.000000000000   0.000000000000   0.000000000000   0.046800821384   0.000000000000   \n",
      "trial   \t|  0.000000000000   0.000000000000   0.000000000000   0.000000000000   0.039284057781   \n",
      "tsb     \t|  0.000000000000   0.000000000000   0.000000000000   0.046800821384   0.000000000000   \n",
      "tuesday \t|  0.031866754923   0.039192056059   0.040925145224   0.000000000000   0.000000000000   \n",
      "tunnel  \t|  0.063733509845   0.078384112119   0.081850290448   0.000000000000   0.000000000000   \n",
      "tv      \t|  0.000000000000   0.000000000000   0.000000000000   0.000000000000   0.039284057781   \n",
      "tycoon  \t|  0.000000000000   0.000000000000   0.000000000000   0.000000000000   0.039284057781   \n",
      "u.s.    \t|  0.000000000000   0.000000000000   0.000000000000   0.046800821384   0.000000000000   \n",
      "uncertain\t|  0.000000000000   0.000000000000   0.000000000000   0.046800821384   0.000000000000   \n",
      "uncertainti\t|  0.031866754923   0.039192056059   0.040925145224   0.000000000000   0.000000000000   \n",
      "underway\t|  0.000000000000   0.000000000000   0.000000000000   0.000000000000   0.039284057781   \n",
      "union   \t|  0.000000000000   0.000000000000   0.000000000000   0.046800821384   0.000000000000   \n",
      "unit    \t|  0.000000000000   0.000000000000   0.000000000000   0.140402464151   0.000000000000   \n",
      "unlik   \t|  0.000000000000   0.000000000000   0.000000000000   0.037758608010   0.031694130465   \n",
      "unpaid  \t|  0.047582798815   0.000000000000   0.000000000000   0.000000000000   0.000000000000   \n",
      "unspecif\t|  0.000000000000   0.000000000000   0.000000000000   0.000000000000   0.039284057781   \n",
      "urg     \t|  0.047582798815   0.000000000000   0.000000000000   0.000000000000   0.000000000000   \n",
      "use     \t|  0.000000000000   0.000000000000   0.000000000000   0.000000000000   0.117852173343   \n",
      "volum   \t|  0.000000000000   0.000000000000   0.000000000000   0.046800821384   0.000000000000   \n",
      "want    \t|  0.095165597630   0.000000000000   0.000000000000   0.000000000000   0.000000000000   \n",
      "warrant \t|  0.031866754923   0.039192056059   0.040925145224   0.000000000000   0.000000000000   \n",
      "wednesday\t|  0.000000000000   0.000000000000   0.000000000000   0.000000000000   0.039284057781   \n",
      "week    \t|  0.031866754923   0.117576168178   0.122775435673   0.000000000000   0.000000000000   \n",
      "welcom  \t|  0.000000000000   0.000000000000   0.000000000000   0.000000000000   0.039284057781   \n",
      "wide    \t|  0.026807318853   0.032969593103   0.034427522344   0.000000000000   0.022131952912   \n",
      "wide-rang\t|  0.000000000000   0.000000000000   0.000000000000   0.000000000000   0.039284057781   \n",
      "wipe    \t|  0.031866754923   0.039192056059   0.040925145224   0.000000000000   0.000000000000   \n",
      "work    \t|  0.026807318853   0.032969593103   0.034427522344   0.026366766409   0.000000000000   \n",
      "worker  \t|  0.000000000000   0.000000000000   0.000000000000   0.046800821384   0.000000000000   \n",
      "worldwid\t|  0.000000000000   0.000000000000   0.000000000000   0.046800821384   0.000000000000   \n",
      "worth   \t|  0.000000000000   0.000000000000   0.000000000000   0.046800821384   0.000000000000   \n",
      "wrangl  \t|  0.000000000000   0.047214206055   0.049302038059   0.000000000000   0.000000000000   \n",
      "wrestl  \t|  0.031866754923   0.039192056059   0.040925145224   0.000000000000   0.000000000000   \n",
      "year    \t|  0.160843913119   0.032969593103   0.034427522344   0.000000000000   0.044263905824   \n",
      "\n",
      "\n",
      "\n",
      "========COSINE SIMILARITY====================================================================\n",
      "\n",
      "                   100554newsML.txt   100593newsML.txt   100618newsML.txt   130040newsML.txt   137871newsML.txt   \n",
      "100554newsML.txt    1.00000000          0.74710164          0.77192476          0.17310706          0.11696533         \n",
      "100593newsML.txt    0.74710164          1.00000000          0.97508619          0.13309524          0.09585856         \n",
      "100618newsML.txt    0.77192476          0.97508619          1.00000000          0.13496567          0.10226431         \n",
      "130040newsML.txt    0.17310706          0.13309524          0.13496567          1.00000000          0.07654495         \n",
      "137871newsML.txt    0.11696533          0.09585856          0.10226431          0.07654495          1.00000000         \n",
      "\n",
      "\n",
      "=============================================================================================\n",
      "\n"
     ]
    }
   ],
   "source": [
    "main()"
   ]
  },
  {
   "cell_type": "code",
   "execution_count": null,
   "metadata": {
    "collapsed": true
   },
   "outputs": [],
   "source": []
  }
 ],
 "metadata": {
  "kernelspec": {
   "display_name": "Python 3",
   "language": "python",
   "name": "python3"
  },
  "language_info": {
   "codemirror_mode": {
    "name": "ipython",
    "version": 3
   },
   "file_extension": ".py",
   "mimetype": "text/x-python",
   "name": "python",
   "nbconvert_exporter": "python",
   "pygments_lexer": "ipython3",
   "version": "3.6.1"
  }
 },
 "nbformat": 4,
 "nbformat_minor": 2
}
